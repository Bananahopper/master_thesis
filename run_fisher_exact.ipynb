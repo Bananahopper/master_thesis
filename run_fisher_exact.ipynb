{
 "cells": [
  {
   "cell_type": "code",
   "execution_count": 57,
   "metadata": {},
   "outputs": [],
   "source": [
    "import numpy as np\n",
    "import nibabel as nib\n",
    "import math\n",
    "import datetime\n",
    "import os\n",
    "from multiprocessing import Pool"
   ]
  },
  {
   "cell_type": "code",
   "execution_count": 32,
   "metadata": {},
   "outputs": [],
   "source": [
    "fileRHUH = nib.load('prob_dist_results/RHUH_DATASET/probdist_RHUH_whole_tumor.nii')\n",
    "imgRHUH = fileRHUH.get_fdata()\n",
    "fileBTP = nib.load('prob_dist_results/BRAIN-TUMOR-PROGRESSION_DATASET/probdist_BTP_whole_tumor.nii')\n",
    "imgBTP = fileBTP.get_fdata()\n"
   ]
  },
  {
   "cell_type": "code",
   "execution_count": null,
   "metadata": {},
   "outputs": [],
   "source": [
    "# Iterate over every voxel\n",
    "\n",
    "\n",
    "def fisher():\n",
    "    result_array = np.zeros_like(imgRHUH, dtype=float)\n",
    "\n",
    "    for (x_RHUH,y_RHUH,z_RHUH), valueRHUH in np.ndenumerate(imgRHUH):\n",
    "        valueBTP = imgBTP[x_RHUH, y_RHUH, z_RHUH]\n",
    "        a = int(valueRHUH)\n",
    "        b = int(valueBTP)\n",
    "        c = 39 - a\n",
    "        d = 20 - b\n",
    "        n = 59\n",
    "         \n",
    "        p = ((math.factorial(a + b)) * (math.factorial(c + d)) * (math.factorial(a + c)) * (math.factorial(b + d))) / ((math.factorial(a)) * (math.factorial(b)) * (math.factorial(c)) * (math.factorial(d)) * (math.factorial(n)))\n",
    "\n",
    "        result_array[x_RHUH, y_RHUH, z_RHUH] = p\n",
    "    \n",
    "    return result_array\n",
    "\n",
    "start = time.time()\n",
    "result_array = fisher()\n",
    "end = time.time()\n",
    "\n",
    "print(\"Time elapsed: \", end - start)\n",
    "\n"
   ]
  },
  {
   "cell_type": "code",
   "execution_count": 66,
   "metadata": {},
   "outputs": [],
   "source": [
    "x = imgRHUH.flatten()\n",
    "\n",
    "def fisher_fast(x):\n",
    "    result_array = np.zeros_like(imgRHUH, dtype=float)\n",
    "\n",
    "    shape = result_array.shape\n",
    "\n",
    "    y = imgBTP.flatten()\n",
    "    z = result_array.flatten()\n",
    "\n",
    "    for i, value in enumerate(x):\n",
    "        a = int(value)\n",
    "        b = int(y[i])\n",
    "        c = 39 - a\n",
    "        d = 20 - b\n",
    "        n = 59\n",
    "         \n",
    "        p = ((math.factorial(a + b)) * (math.factorial(c + d)) * (math.factorial(a + c)) * (math.factorial(b + d))) / ((math.factorial(a)) * (math.factorial(b)) * (math.factorial(c)) * (math.factorial(d)) * (math.factorial(n)))\n",
    "\n",
    "        z[i] = p\n",
    "\n",
    "    result_array = z.reshape(shape)\n",
    "    \n",
    "    return result_array\n",
    "\n",
    "\n",
    "result_array = fisher_fast()"
   ]
  },
  {
   "cell_type": "code",
   "execution_count": 70,
   "metadata": {},
   "outputs": [
    {
     "name": "stdout",
     "output_type": "stream",
     "text": [
      "range(0, 8928000)\n"
     ]
    }
   ],
   "source": []
  },
  {
   "cell_type": "code",
   "execution_count": 67,
   "metadata": {},
   "outputs": [],
   "source": [
    "# Retain only p values of less than 0.05\n",
    "\n",
    "mask = result_array < 0.01\n",
    "\n",
    "filtered_array = np.zeros_like(result_array)\n",
    "filtered_array[mask] = result_array[mask]\n",
    "\n",
    "filtered_array = np.nan_to_num(filtered_array)\n",
    "\n",
    "\n",
    "\n"
   ]
  },
  {
   "cell_type": "code",
   "execution_count": 68,
   "metadata": {},
   "outputs": [],
   "source": [
    "# Save the result\n",
    "img = nib.Nifti1Image(filtered_array, affine=fileBTP.affine)\n",
    "nib.save(img, 'prob_dist_results/combined_prob_dist.nii')"
   ]
  },
  {
   "cell_type": "code",
   "execution_count": 24,
   "metadata": {},
   "outputs": [
    {
     "ename": "TypeError",
     "evalue": "list indices must be integers or slices, not tuple",
     "output_type": "error",
     "traceback": [
      "\u001b[1;31m---------------------------------------------------------------------------\u001b[0m",
      "\u001b[1;31mTypeError\u001b[0m                                 Traceback (most recent call last)",
      "Cell \u001b[1;32mIn[24], line 31\u001b[0m\n\u001b[0;32m     18\u001b[0m array2 \u001b[38;5;241m=\u001b[39m [[[\u001b[38;5;241m27\u001b[39m, \u001b[38;5;241m26\u001b[39m, \u001b[38;5;241m25\u001b[39m],\n\u001b[0;32m     19\u001b[0m   [\u001b[38;5;241m24\u001b[39m, \u001b[38;5;241m23\u001b[39m, \u001b[38;5;241m22\u001b[39m],\n\u001b[0;32m     20\u001b[0m   [\u001b[38;5;241m21\u001b[39m, \u001b[38;5;241m20\u001b[39m, \u001b[38;5;241m19\u001b[39m]],\n\u001b[1;32m   (...)\u001b[0m\n\u001b[0;32m     27\u001b[0m   [\u001b[38;5;241m6\u001b[39m, \u001b[38;5;241m5\u001b[39m, \u001b[38;5;241m4\u001b[39m],\n\u001b[0;32m     28\u001b[0m   [\u001b[38;5;241m3\u001b[39m, \u001b[38;5;241m2\u001b[39m, \u001b[38;5;241m1\u001b[39m]]]\n\u001b[0;32m     30\u001b[0m \u001b[38;5;28;01mfor\u001b[39;00m (x,y,z), value1 \u001b[38;5;129;01min\u001b[39;00m np\u001b[38;5;241m.\u001b[39mndenumerate(array1):\n\u001b[1;32m---> 31\u001b[0m     value2 \u001b[38;5;241m=\u001b[39m \u001b[43marray2\u001b[49m\u001b[43m[\u001b[49m\u001b[43mx\u001b[49m\u001b[43m,\u001b[49m\u001b[43my\u001b[49m\u001b[43m,\u001b[49m\u001b[43mz\u001b[49m\u001b[43m]\u001b[49m\n\u001b[0;32m     32\u001b[0m     result_array_test[x,y,z] \u001b[38;5;241m=\u001b[39m value1 \u001b[38;5;241m+\u001b[39m value2\n",
      "\u001b[1;31mTypeError\u001b[0m: list indices must be integers or slices, not tuple"
     ]
    }
   ],
   "source": [
    "result_array = np.zeros_like(imgRHUH, dtype=float)\n",
    "\n",
    "\n",
    "result_array_test = np.zeros_like(array1, dtype=float)\n",
    "\n",
    "array1 = [[[1, 2, 3],\n",
    "  [4, 5, 6],\n",
    "  [7, 8, 9]],\n",
    " \n",
    " [[10, 11, 12],\n",
    "  [13, 14, 15],\n",
    "  [16, 17, 18]],\n",
    " \n",
    " [[19, 20, 21],\n",
    "  [22, 23, 24],\n",
    "  [25, 26, 27]]]\n",
    "\n",
    "array2 = [[[27, 26, 25],\n",
    "  [24, 23, 22],\n",
    "  [21, 20, 19]],\n",
    " \n",
    " [[18, 17, 16],\n",
    "  [15, 14, 13],\n",
    "  [12, 11, 10]],\n",
    " \n",
    " [[9, 8, 7],\n",
    "  [6, 5, 4],\n",
    "  [3, 2, 1]]]\n",
    "\n",
    "for (x,y,z), value1 in np.ndenumerate(array1):\n",
    "    value2 = array2[x,y,z]\n",
    "    result_array_test[x,y,z] = value1 + value2"
   ]
  },
  {
   "cell_type": "code",
   "execution_count": 23,
   "metadata": {},
   "outputs": [
    {
     "name": "stdout",
     "output_type": "stream",
     "text": [
      "[[[28. 28. 28.]\n",
      "  [28. 28. 28.]\n",
      "  [28. 28. 28.]]\n",
      "\n",
      " [[28. 28. 28.]\n",
      "  [28. 28. 28.]\n",
      "  [28. 28. 28.]]\n",
      "\n",
      " [[28. 28. 28.]\n",
      "  [28. 28. 28.]\n",
      "  [28. 28. 28.]]]\n"
     ]
    }
   ],
   "source": [
    "print(result_array_test)"
   ]
  }
 ],
 "metadata": {
  "kernelspec": {
   "display_name": "Python 3",
   "language": "python",
   "name": "python3"
  },
  "language_info": {
   "codemirror_mode": {
    "name": "ipython",
    "version": 3
   },
   "file_extension": ".py",
   "mimetype": "text/x-python",
   "name": "python",
   "nbconvert_exporter": "python",
   "pygments_lexer": "ipython3",
   "version": "3.11.8"
  }
 },
 "nbformat": 4,
 "nbformat_minor": 2
}
